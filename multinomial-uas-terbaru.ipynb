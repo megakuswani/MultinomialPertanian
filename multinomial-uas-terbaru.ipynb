{
 "cells": [
  {
   "cell_type": "code",
   "execution_count": 1,
   "id": "35225fdb",
   "metadata": {
    "_cell_guid": "b1076dfc-b9ad-4769-8c92-a6c4dae69d19",
    "_uuid": "8f2839f25d086af736a60e9eeb907d3b93b6e0e5",
    "execution": {
     "iopub.execute_input": "2022-07-05T15:45:07.543115Z",
     "iopub.status.busy": "2022-07-05T15:45:07.542496Z",
     "iopub.status.idle": "2022-07-05T15:45:07.567343Z",
     "shell.execute_reply": "2022-07-05T15:45:07.566099Z"
    },
    "papermill": {
     "duration": 0.037772,
     "end_time": "2022-07-05T15:45:07.571317",
     "exception": false,
     "start_time": "2022-07-05T15:45:07.533545",
     "status": "completed"
    },
    "tags": []
   },
   "outputs": [
    {
     "name": "stdout",
     "output_type": "stream",
     "text": [
      "/kaggle/input/pertanianmultinomial/Pertanianemitten.csv\n",
      "/kaggle/input/pertanianmultinomial/uas.csv\n",
      "/kaggle/input/pertanianmultinomial/PertanianMultinomial (1).csv\n",
      "/kaggle/input/pertanianmultinomial/PertanianMultinomial.csv\n"
     ]
    }
   ],
   "source": [
    "# This Python 3 environment comes with many helpful analytics libraries installed\n",
    "# It is defined by the kaggle/python Docker image: https://github.com/kaggle/docker-python\n",
    "# For example, here's several helpful packages to load\n",
    "\n",
    "import numpy as np # linear algebra\n",
    "import pandas as pd # data processing, CSV file I/O (e.g. pd.read_csv)\n",
    "\n",
    "# Input data files are available in the read-only \"../input/\" directory\n",
    "# For example, running this (by clicking run or pressing Shift+Enter) will list all files under the input directory\n",
    "\n",
    "import os\n",
    "for dirname, _, filenames in os.walk('/kaggle/input'):\n",
    "    for filename in filenames:\n",
    "        print(os.path.join(dirname, filename))\n",
    "\n",
    "# You can write up to 20GB to the current directory (/kaggle/working/) that gets preserved as output when you create a version using \"Save & Run All\" \n",
    "# You can also write temporary files to /kaggle/temp/, but they won't be saved outside of the current session"
   ]
  },
  {
   "cell_type": "code",
   "execution_count": 2,
   "id": "6ac58132",
   "metadata": {
    "execution": {
     "iopub.execute_input": "2022-07-05T15:45:07.585362Z",
     "iopub.status.busy": "2022-07-05T15:45:07.584837Z",
     "iopub.status.idle": "2022-07-05T15:45:09.329587Z",
     "shell.execute_reply": "2022-07-05T15:45:09.328394Z"
    },
    "papermill": {
     "duration": 1.75499,
     "end_time": "2022-07-05T15:45:09.332260",
     "exception": false,
     "start_time": "2022-07-05T15:45:07.577270",
     "status": "completed"
    },
    "tags": []
   },
   "outputs": [],
   "source": [
    "import pandas as pd\n",
    "import seaborn as sns\n",
    "from sklearn.metrics import classification_report\n",
    "from sklearn.metrics import accuracy_score\n",
    "from sklearn.model_selection import train_test_split\n",
    "from sklearn.linear_model import LogisticRegression"
   ]
  },
  {
   "cell_type": "code",
   "execution_count": 3,
   "id": "154083d4",
   "metadata": {
    "execution": {
     "iopub.execute_input": "2022-07-05T15:45:09.346371Z",
     "iopub.status.busy": "2022-07-05T15:45:09.345585Z",
     "iopub.status.idle": "2022-07-05T15:45:09.383166Z",
     "shell.execute_reply": "2022-07-05T15:45:09.381890Z"
    },
    "papermill": {
     "duration": 0.047699,
     "end_time": "2022-07-05T15:45:09.385933",
     "exception": false,
     "start_time": "2022-07-05T15:45:09.338234",
     "status": "completed"
    },
    "tags": []
   },
   "outputs": [
    {
     "data": {
      "text/html": [
       "<div>\n",
       "<style scoped>\n",
       "    .dataframe tbody tr th:only-of-type {\n",
       "        vertical-align: middle;\n",
       "    }\n",
       "\n",
       "    .dataframe tbody tr th {\n",
       "        vertical-align: top;\n",
       "    }\n",
       "\n",
       "    .dataframe thead th {\n",
       "        text-align: right;\n",
       "    }\n",
       "</style>\n",
       "<table border=\"1\" class=\"dataframe\">\n",
       "  <thead>\n",
       "    <tr style=\"text-align: right;\">\n",
       "      <th></th>\n",
       "      <th>DER</th>\n",
       "      <th>Operating Profit Margin</th>\n",
       "      <th>Sales Growth</th>\n",
       "      <th>Return On Asset</th>\n",
       "      <th>Category</th>\n",
       "    </tr>\n",
       "  </thead>\n",
       "  <tbody>\n",
       "    <tr>\n",
       "      <th>0</th>\n",
       "      <td>0.135154</td>\n",
       "      <td>0.135154</td>\n",
       "      <td>1.293241</td>\n",
       "      <td>0.064848</td>\n",
       "      <td>1</td>\n",
       "    </tr>\n",
       "    <tr>\n",
       "      <th>1</th>\n",
       "      <td>0.758859</td>\n",
       "      <td>-0.064557</td>\n",
       "      <td>0.834610</td>\n",
       "      <td>-0.064974</td>\n",
       "      <td>1</td>\n",
       "    </tr>\n",
       "    <tr>\n",
       "      <th>2</th>\n",
       "      <td>0.395062</td>\n",
       "      <td>0.236027</td>\n",
       "      <td>1.625789</td>\n",
       "      <td>0.061328</td>\n",
       "      <td>2</td>\n",
       "    </tr>\n",
       "    <tr>\n",
       "      <th>3</th>\n",
       "      <td>0.000624</td>\n",
       "      <td>0.227386</td>\n",
       "      <td>0.797727</td>\n",
       "      <td>0.119392</td>\n",
       "      <td>1</td>\n",
       "    </tr>\n",
       "    <tr>\n",
       "      <th>4</th>\n",
       "      <td>1.239184</td>\n",
       "      <td>-2.007213</td>\n",
       "      <td>1.451510</td>\n",
       "      <td>-0.059932</td>\n",
       "      <td>4</td>\n",
       "    </tr>\n",
       "  </tbody>\n",
       "</table>\n",
       "</div>"
      ],
      "text/plain": [
       "        DER  Operating Profit Margin  Sales Growth  Return On Asset  Category\n",
       "0  0.135154                 0.135154      1.293241         0.064848         1\n",
       "1  0.758859                -0.064557      0.834610        -0.064974         1\n",
       "2  0.395062                 0.236027      1.625789         0.061328         2\n",
       "3  0.000624                 0.227386      0.797727         0.119392         1\n",
       "4  1.239184                -2.007213      1.451510        -0.059932         4"
      ]
     },
     "execution_count": 3,
     "metadata": {},
     "output_type": "execute_result"
    }
   ],
   "source": [
    "df = pd.read_csv('../input/pertanianmultinomial/uas.csv')\n",
    "df.head()"
   ]
  },
  {
   "cell_type": "code",
   "execution_count": 4,
   "id": "28cdba3d",
   "metadata": {
    "execution": {
     "iopub.execute_input": "2022-07-05T15:45:09.401122Z",
     "iopub.status.busy": "2022-07-05T15:45:09.400357Z",
     "iopub.status.idle": "2022-07-05T15:45:09.410570Z",
     "shell.execute_reply": "2022-07-05T15:45:09.409107Z"
    },
    "papermill": {
     "duration": 0.021118,
     "end_time": "2022-07-05T15:45:09.413379",
     "exception": false,
     "start_time": "2022-07-05T15:45:09.392261",
     "status": "completed"
    },
    "tags": []
   },
   "outputs": [
    {
     "data": {
      "text/plain": [
       "array([[ 1.35154326e-01,  1.35154326e-01,  1.29324147e+00,\n",
       "         6.48477330e-02,  1.00000000e+00],\n",
       "       [ 7.58859160e-01, -6.45565480e-02,  8.34610166e-01,\n",
       "        -6.49736420e-02,  1.00000000e+00],\n",
       "       [ 3.95062270e-01,  2.36026568e-01,  1.62578915e+00,\n",
       "         6.13284300e-02,  2.00000000e+00],\n",
       "       [ 6.23580000e-04,  2.27386464e-01,  7.97726643e-01,\n",
       "         1.19392284e-01,  1.00000000e+00],\n",
       "       [ 1.23918365e+00, -2.00721268e+00,  1.45150996e+00,\n",
       "        -5.99320140e-02,  4.00000000e+00],\n",
       "       [ 3.51720847e+00, -4.12206492e-01,  1.33641854e+00,\n",
       "        -1.16518174e-01,  1.00000000e+00],\n",
       "       [ 5.08335265e+00,  3.31290314e-01,  1.05542852e+00,\n",
       "         4.05886354e-01,  2.00000000e+00],\n",
       "       [ 7.55672046e-01,  1.93574141e-01,  1.06352921e+00,\n",
       "         5.30297930e-02,  4.00000000e+00],\n",
       "       [ 6.24000055e-01, -3.19872460e-02,  1.05681644e+00,\n",
       "        -2.64757790e-02,  1.00000000e+00],\n",
       "       [ 1.06140122e+01,  5.25930500e-03,  6.37814498e-01,\n",
       "        -5.52244650e-02,  1.00000000e+00],\n",
       "       [ 8.34013000e-04,  2.75623565e-01,  1.27956743e+00,\n",
       "         8.36404340e-02,  1.00000000e+00],\n",
       "       [ 3.57070904e+00, -9.80924660e-01,  9.77536938e-01,\n",
       "        -1.78472190e-01,  3.00000000e+00],\n",
       "       [ 1.19241854e+00,  2.39856610e-02,  1.78084047e+00,\n",
       "         4.31474760e-02,  2.00000000e+00],\n",
       "       [ 1.44011876e+00,  2.09130653e-01,  1.89817074e+00,\n",
       "         5.73009870e-02,  4.00000000e+00],\n",
       "       [ 6.97245784e-01,  2.79514114e-01,  1.49113635e+00,\n",
       "         8.22536130e-02,  2.00000000e+00],\n",
       "       [ 4.92059783e-01,  1.50500986e-01,  1.35813032e+00,\n",
       "         2.73605640e-02,  1.00000000e+00],\n",
       "       [ 1.02678206e+00,  4.58206353e-01,  1.29716560e+00,\n",
       "         1.09418602e-01,  1.00000000e+00],\n",
       "       [ 1.64505738e+00,  1.38291493e-01,  1.27306024e+00,\n",
       "         4.24569790e-02,  1.00000000e+00],\n",
       "       [-1.32274335e+00,  1.95795668e-01,  1.26345540e+00,\n",
       "        -3.92088800e-03,  1.00000000e+00]])"
      ]
     },
     "execution_count": 4,
     "metadata": {},
     "output_type": "execute_result"
    }
   ],
   "source": [
    "np.array(df)"
   ]
  },
  {
   "cell_type": "code",
   "execution_count": 5,
   "id": "1c2f858c",
   "metadata": {
    "execution": {
     "iopub.execute_input": "2022-07-05T15:45:09.428949Z",
     "iopub.status.busy": "2022-07-05T15:45:09.428032Z",
     "iopub.status.idle": "2022-07-05T15:45:10.441075Z",
     "shell.execute_reply": "2022-07-05T15:45:10.439634Z"
    },
    "papermill": {
     "duration": 1.024789,
     "end_time": "2022-07-05T15:45:10.444347",
     "exception": false,
     "start_time": "2022-07-05T15:45:09.419558",
     "status": "completed"
    },
    "tags": []
   },
   "outputs": [],
   "source": [
    "import statsmodels.api as sm"
   ]
  },
  {
   "cell_type": "code",
   "execution_count": 6,
   "id": "0a2fba2a",
   "metadata": {
    "execution": {
     "iopub.execute_input": "2022-07-05T15:45:10.459871Z",
     "iopub.status.busy": "2022-07-05T15:45:10.458764Z",
     "iopub.status.idle": "2022-07-05T15:45:10.484362Z",
     "shell.execute_reply": "2022-07-05T15:45:10.483274Z"
    },
    "papermill": {
     "duration": 0.036769,
     "end_time": "2022-07-05T15:45:10.487737",
     "exception": false,
     "start_time": "2022-07-05T15:45:10.450968",
     "status": "completed"
    },
    "tags": []
   },
   "outputs": [
    {
     "data": {
      "text/html": [
       "<div>\n",
       "<style scoped>\n",
       "    .dataframe tbody tr th:only-of-type {\n",
       "        vertical-align: middle;\n",
       "    }\n",
       "\n",
       "    .dataframe tbody tr th {\n",
       "        vertical-align: top;\n",
       "    }\n",
       "\n",
       "    .dataframe thead th {\n",
       "        text-align: right;\n",
       "    }\n",
       "</style>\n",
       "<table border=\"1\" class=\"dataframe\">\n",
       "  <thead>\n",
       "    <tr style=\"text-align: right;\">\n",
       "      <th></th>\n",
       "      <th>DER</th>\n",
       "      <th>Operating Profit Margin</th>\n",
       "      <th>Sales Growth</th>\n",
       "      <th>Return On Asset</th>\n",
       "    </tr>\n",
       "  </thead>\n",
       "  <tbody>\n",
       "    <tr>\n",
       "      <th>0</th>\n",
       "      <td>0.135154</td>\n",
       "      <td>0.135154</td>\n",
       "      <td>1.293241</td>\n",
       "      <td>0.064848</td>\n",
       "    </tr>\n",
       "    <tr>\n",
       "      <th>1</th>\n",
       "      <td>0.758859</td>\n",
       "      <td>-0.064557</td>\n",
       "      <td>0.834610</td>\n",
       "      <td>-0.064974</td>\n",
       "    </tr>\n",
       "    <tr>\n",
       "      <th>2</th>\n",
       "      <td>0.395062</td>\n",
       "      <td>0.236027</td>\n",
       "      <td>1.625789</td>\n",
       "      <td>0.061328</td>\n",
       "    </tr>\n",
       "    <tr>\n",
       "      <th>3</th>\n",
       "      <td>0.000624</td>\n",
       "      <td>0.227386</td>\n",
       "      <td>0.797727</td>\n",
       "      <td>0.119392</td>\n",
       "    </tr>\n",
       "    <tr>\n",
       "      <th>4</th>\n",
       "      <td>1.239184</td>\n",
       "      <td>-2.007213</td>\n",
       "      <td>1.451510</td>\n",
       "      <td>-0.059932</td>\n",
       "    </tr>\n",
       "  </tbody>\n",
       "</table>\n",
       "</div>"
      ],
      "text/plain": [
       "        DER  Operating Profit Margin  Sales Growth  Return On Asset\n",
       "0  0.135154                 0.135154      1.293241         0.064848\n",
       "1  0.758859                -0.064557      0.834610        -0.064974\n",
       "2  0.395062                 0.236027      1.625789         0.061328\n",
       "3  0.000624                 0.227386      0.797727         0.119392\n",
       "4  1.239184                -2.007213      1.451510        -0.059932"
      ]
     },
     "execution_count": 6,
     "metadata": {},
     "output_type": "execute_result"
    }
   ],
   "source": [
    "x = df.drop('Category', axis=1)\n",
    "x.head()"
   ]
  },
  {
   "cell_type": "code",
   "execution_count": 7,
   "id": "41fd7ba2",
   "metadata": {
    "execution": {
     "iopub.execute_input": "2022-07-05T15:45:10.504041Z",
     "iopub.status.busy": "2022-07-05T15:45:10.503235Z",
     "iopub.status.idle": "2022-07-05T15:45:10.514896Z",
     "shell.execute_reply": "2022-07-05T15:45:10.513480Z"
    },
    "papermill": {
     "duration": 0.023381,
     "end_time": "2022-07-05T15:45:10.517871",
     "exception": false,
     "start_time": "2022-07-05T15:45:10.494490",
     "status": "completed"
    },
    "tags": []
   },
   "outputs": [
    {
     "data": {
      "text/plain": [
       "0    1\n",
       "1    1\n",
       "2    2\n",
       "3    1\n",
       "4    4\n",
       "Name: Category, dtype: int64"
      ]
     },
     "execution_count": 7,
     "metadata": {},
     "output_type": "execute_result"
    }
   ],
   "source": [
    "y = df['Category']\n",
    "y.head()"
   ]
  },
  {
   "cell_type": "code",
   "execution_count": 8,
   "id": "92050494",
   "metadata": {
    "execution": {
     "iopub.execute_input": "2022-07-05T15:45:10.534220Z",
     "iopub.status.busy": "2022-07-05T15:45:10.533380Z",
     "iopub.status.idle": "2022-07-05T15:45:10.540621Z",
     "shell.execute_reply": "2022-07-05T15:45:10.539591Z"
    },
    "papermill": {
     "duration": 0.019379,
     "end_time": "2022-07-05T15:45:10.543899",
     "exception": false,
     "start_time": "2022-07-05T15:45:10.524520",
     "status": "completed"
    },
    "tags": []
   },
   "outputs": [],
   "source": [
    "x_train, x_test, y_train, y_test = train_test_split(x,y, test_size=0.2)\n"
   ]
  },
  {
   "cell_type": "code",
   "execution_count": 9,
   "id": "9aef8373",
   "metadata": {
    "execution": {
     "iopub.execute_input": "2022-07-05T15:45:10.559876Z",
     "iopub.status.busy": "2022-07-05T15:45:10.559035Z",
     "iopub.status.idle": "2022-07-05T15:45:10.580342Z",
     "shell.execute_reply": "2022-07-05T15:45:10.579104Z"
    },
    "papermill": {
     "duration": 0.032466,
     "end_time": "2022-07-05T15:45:10.582958",
     "exception": false,
     "start_time": "2022-07-05T15:45:10.550492",
     "status": "completed"
    },
    "tags": []
   },
   "outputs": [
    {
     "data": {
      "text/html": [
       "<div>\n",
       "<style scoped>\n",
       "    .dataframe tbody tr th:only-of-type {\n",
       "        vertical-align: middle;\n",
       "    }\n",
       "\n",
       "    .dataframe tbody tr th {\n",
       "        vertical-align: top;\n",
       "    }\n",
       "\n",
       "    .dataframe thead th {\n",
       "        text-align: right;\n",
       "    }\n",
       "</style>\n",
       "<table border=\"1\" class=\"dataframe\">\n",
       "  <thead>\n",
       "    <tr style=\"text-align: right;\">\n",
       "      <th></th>\n",
       "      <th>const</th>\n",
       "      <th>DER</th>\n",
       "      <th>Operating Profit Margin</th>\n",
       "      <th>Sales Growth</th>\n",
       "      <th>Return On Asset</th>\n",
       "    </tr>\n",
       "  </thead>\n",
       "  <tbody>\n",
       "    <tr>\n",
       "      <th>3</th>\n",
       "      <td>1.0</td>\n",
       "      <td>0.000624</td>\n",
       "      <td>0.227386</td>\n",
       "      <td>0.797727</td>\n",
       "      <td>0.119392</td>\n",
       "    </tr>\n",
       "    <tr>\n",
       "      <th>18</th>\n",
       "      <td>1.0</td>\n",
       "      <td>-1.322743</td>\n",
       "      <td>0.195796</td>\n",
       "      <td>1.263455</td>\n",
       "      <td>-0.003921</td>\n",
       "    </tr>\n",
       "    <tr>\n",
       "      <th>8</th>\n",
       "      <td>1.0</td>\n",
       "      <td>0.624000</td>\n",
       "      <td>-0.031987</td>\n",
       "      <td>1.056816</td>\n",
       "      <td>-0.026476</td>\n",
       "    </tr>\n",
       "    <tr>\n",
       "      <th>13</th>\n",
       "      <td>1.0</td>\n",
       "      <td>1.440119</td>\n",
       "      <td>0.209131</td>\n",
       "      <td>1.898171</td>\n",
       "      <td>0.057301</td>\n",
       "    </tr>\n",
       "    <tr>\n",
       "      <th>17</th>\n",
       "      <td>1.0</td>\n",
       "      <td>1.645057</td>\n",
       "      <td>0.138291</td>\n",
       "      <td>1.273060</td>\n",
       "      <td>0.042457</td>\n",
       "    </tr>\n",
       "    <tr>\n",
       "      <th>15</th>\n",
       "      <td>1.0</td>\n",
       "      <td>0.492060</td>\n",
       "      <td>0.150501</td>\n",
       "      <td>1.358130</td>\n",
       "      <td>0.027361</td>\n",
       "    </tr>\n",
       "    <tr>\n",
       "      <th>9</th>\n",
       "      <td>1.0</td>\n",
       "      <td>10.614012</td>\n",
       "      <td>0.005259</td>\n",
       "      <td>0.637814</td>\n",
       "      <td>-0.055224</td>\n",
       "    </tr>\n",
       "    <tr>\n",
       "      <th>2</th>\n",
       "      <td>1.0</td>\n",
       "      <td>0.395062</td>\n",
       "      <td>0.236027</td>\n",
       "      <td>1.625789</td>\n",
       "      <td>0.061328</td>\n",
       "    </tr>\n",
       "    <tr>\n",
       "      <th>4</th>\n",
       "      <td>1.0</td>\n",
       "      <td>1.239184</td>\n",
       "      <td>-2.007213</td>\n",
       "      <td>1.451510</td>\n",
       "      <td>-0.059932</td>\n",
       "    </tr>\n",
       "    <tr>\n",
       "      <th>7</th>\n",
       "      <td>1.0</td>\n",
       "      <td>0.755672</td>\n",
       "      <td>0.193574</td>\n",
       "      <td>1.063529</td>\n",
       "      <td>0.053030</td>\n",
       "    </tr>\n",
       "    <tr>\n",
       "      <th>10</th>\n",
       "      <td>1.0</td>\n",
       "      <td>0.000834</td>\n",
       "      <td>0.275624</td>\n",
       "      <td>1.279567</td>\n",
       "      <td>0.083640</td>\n",
       "    </tr>\n",
       "    <tr>\n",
       "      <th>12</th>\n",
       "      <td>1.0</td>\n",
       "      <td>1.192419</td>\n",
       "      <td>0.023986</td>\n",
       "      <td>1.780840</td>\n",
       "      <td>0.043147</td>\n",
       "    </tr>\n",
       "    <tr>\n",
       "      <th>14</th>\n",
       "      <td>1.0</td>\n",
       "      <td>0.697246</td>\n",
       "      <td>0.279514</td>\n",
       "      <td>1.491136</td>\n",
       "      <td>0.082254</td>\n",
       "    </tr>\n",
       "    <tr>\n",
       "      <th>0</th>\n",
       "      <td>1.0</td>\n",
       "      <td>0.135154</td>\n",
       "      <td>0.135154</td>\n",
       "      <td>1.293241</td>\n",
       "      <td>0.064848</td>\n",
       "    </tr>\n",
       "    <tr>\n",
       "      <th>1</th>\n",
       "      <td>1.0</td>\n",
       "      <td>0.758859</td>\n",
       "      <td>-0.064557</td>\n",
       "      <td>0.834610</td>\n",
       "      <td>-0.064974</td>\n",
       "    </tr>\n",
       "  </tbody>\n",
       "</table>\n",
       "</div>"
      ],
      "text/plain": [
       "    const        DER  Operating Profit Margin  Sales Growth  Return On Asset\n",
       "3     1.0   0.000624                 0.227386      0.797727         0.119392\n",
       "18    1.0  -1.322743                 0.195796      1.263455        -0.003921\n",
       "8     1.0   0.624000                -0.031987      1.056816        -0.026476\n",
       "13    1.0   1.440119                 0.209131      1.898171         0.057301\n",
       "17    1.0   1.645057                 0.138291      1.273060         0.042457\n",
       "15    1.0   0.492060                 0.150501      1.358130         0.027361\n",
       "9     1.0  10.614012                 0.005259      0.637814        -0.055224\n",
       "2     1.0   0.395062                 0.236027      1.625789         0.061328\n",
       "4     1.0   1.239184                -2.007213      1.451510        -0.059932\n",
       "7     1.0   0.755672                 0.193574      1.063529         0.053030\n",
       "10    1.0   0.000834                 0.275624      1.279567         0.083640\n",
       "12    1.0   1.192419                 0.023986      1.780840         0.043147\n",
       "14    1.0   0.697246                 0.279514      1.491136         0.082254\n",
       "0     1.0   0.135154                 0.135154      1.293241         0.064848\n",
       "1     1.0   0.758859                -0.064557      0.834610        -0.064974"
      ]
     },
     "execution_count": 9,
     "metadata": {},
     "output_type": "execute_result"
    }
   ],
   "source": [
    "x_train_sm = sm.add_constant(x_train)\n",
    "x_train_sm"
   ]
  },
  {
   "cell_type": "code",
   "execution_count": 10,
   "id": "92ca844b",
   "metadata": {
    "execution": {
     "iopub.execute_input": "2022-07-05T15:45:10.599132Z",
     "iopub.status.busy": "2022-07-05T15:45:10.598303Z",
     "iopub.status.idle": "2022-07-05T15:45:10.642622Z",
     "shell.execute_reply": "2022-07-05T15:45:10.639273Z"
    },
    "papermill": {
     "duration": 0.059504,
     "end_time": "2022-07-05T15:45:10.649150",
     "exception": false,
     "start_time": "2022-07-05T15:45:10.589646",
     "status": "completed"
    },
    "tags": []
   },
   "outputs": [
    {
     "name": "stdout",
     "output_type": "stream",
     "text": [
      "Optimization terminated successfully.\n",
      "         Current function value: 0.492140\n",
      "         Iterations 12\n"
     ]
    }
   ],
   "source": [
    "#logit_mod = sm.Logit(y_train,x_train_sm\n",
    "                     \n",
    "mnlogit_mod = sm.MNLogit(y_train,x_train_sm)\n",
    "mnlogit_fit = mnlogit_mod.fit()"
   ]
  },
  {
   "cell_type": "code",
   "execution_count": 11,
   "id": "79948a59",
   "metadata": {
    "execution": {
     "iopub.execute_input": "2022-07-05T15:45:10.678190Z",
     "iopub.status.busy": "2022-07-05T15:45:10.677454Z",
     "iopub.status.idle": "2022-07-05T15:45:10.754346Z",
     "shell.execute_reply": "2022-07-05T15:45:10.752720Z"
    },
    "papermill": {
     "duration": 0.094631,
     "end_time": "2022-07-05T15:45:10.757293",
     "exception": false,
     "start_time": "2022-07-05T15:45:10.662662",
     "status": "completed"
    },
    "tags": []
   },
   "outputs": [
    {
     "name": "stdout",
     "output_type": "stream",
     "text": [
      "                          MNLogit Regression Results                          \n",
      "==============================================================================\n",
      "Dep. Variable:               Category   No. Observations:                   15\n",
      "Model:                        MNLogit   Df Residuals:                        5\n",
      "Method:                           MLE   Df Model:                            8\n",
      "Date:                Tue, 05 Jul 2022   Pseudo R-squ.:                  0.4821\n",
      "Time:                        15:45:10   Log-Likelihood:                -7.3821\n",
      "converged:                       True   LL-Null:                       -14.254\n",
      "Covariance Type:            nonrobust   LLR p-value:                   0.08869\n",
      "===========================================================================================\n",
      "             Category=2       coef    std err          z      P>|z|      [0.025      0.975]\n",
      "-------------------------------------------------------------------------------------------\n",
      "const                     -30.0354     30.669     -0.979      0.327     -90.145      30.075\n",
      "DER                        -3.6444      6.231     -0.585      0.559     -15.857       8.569\n",
      "Operating Profit Margin    -7.9659     12.409     -0.642      0.521     -32.286      16.354\n",
      "Sales Growth               17.8299     17.780      1.003      0.316     -17.018      52.678\n",
      "Return On Asset           107.6623    150.346      0.716      0.474    -187.011     402.336\n",
      "-------------------------------------------------------------------------------------------\n",
      "             Category=4       coef    std err          z      P>|z|      [0.025      0.975]\n",
      "-------------------------------------------------------------------------------------------\n",
      "const                      -9.1259      6.078     -1.501      0.133     -21.039       2.788\n",
      "DER                         0.3994      0.632      0.632      0.527      -0.839       1.638\n",
      "Operating Profit Margin    -3.3487      4.766     -0.703      0.482     -12.690       5.993\n",
      "Sales Growth                5.2837      3.985      1.326      0.185      -2.527      13.095\n",
      "Return On Asset            23.5002     39.221      0.599      0.549     -53.371     100.372\n",
      "===========================================================================================\n"
     ]
    }
   ],
   "source": [
    "print (mnlogit_fit.summary())"
   ]
  },
  {
   "cell_type": "code",
   "execution_count": 12,
   "id": "1752880b",
   "metadata": {
    "execution": {
     "iopub.execute_input": "2022-07-05T15:45:10.773084Z",
     "iopub.status.busy": "2022-07-05T15:45:10.772597Z",
     "iopub.status.idle": "2022-07-05T15:45:10.800214Z",
     "shell.execute_reply": "2022-07-05T15:45:10.797365Z"
    },
    "papermill": {
     "duration": 0.039827,
     "end_time": "2022-07-05T15:45:10.803989",
     "exception": false,
     "start_time": "2022-07-05T15:45:10.764162",
     "status": "completed"
    },
    "tags": []
   },
   "outputs": [
    {
     "data": {
      "text/plain": [
       "LogisticRegression()"
      ]
     },
     "execution_count": 12,
     "metadata": {},
     "output_type": "execute_result"
    }
   ],
   "source": [
    "model = LogisticRegression(multi_class='auto')\n",
    "model.fit(x_train, y_train)"
   ]
  },
  {
   "cell_type": "code",
   "execution_count": 13,
   "id": "0125b390",
   "metadata": {
    "execution": {
     "iopub.execute_input": "2022-07-05T15:45:10.820957Z",
     "iopub.status.busy": "2022-07-05T15:45:10.819957Z",
     "iopub.status.idle": "2022-07-05T15:45:10.829574Z",
     "shell.execute_reply": "2022-07-05T15:45:10.828587Z"
    },
    "papermill": {
     "duration": 0.021059,
     "end_time": "2022-07-05T15:45:10.832569",
     "exception": false,
     "start_time": "2022-07-05T15:45:10.811510",
     "status": "completed"
    },
    "tags": []
   },
   "outputs": [
    {
     "data": {
      "text/plain": [
       "array([[0.55263364, 0.1674157 , 0.27995066],\n",
       "       [0.65251589, 0.21301208, 0.13447203],\n",
       "       [0.73699649, 0.13129923, 0.13170427],\n",
       "       [0.58551411, 0.0973894 , 0.31709649]])"
      ]
     },
     "execution_count": 13,
     "metadata": {},
     "output_type": "execute_result"
    }
   ],
   "source": [
    "model.predict_proba(x_test)[0:5]"
   ]
  },
  {
   "cell_type": "code",
   "execution_count": 14,
   "id": "d8d7c6e3",
   "metadata": {
    "execution": {
     "iopub.execute_input": "2022-07-05T15:45:10.850263Z",
     "iopub.status.busy": "2022-07-05T15:45:10.849433Z",
     "iopub.status.idle": "2022-07-05T15:45:10.858387Z",
     "shell.execute_reply": "2022-07-05T15:45:10.857174Z"
    },
    "papermill": {
     "duration": 0.021166,
     "end_time": "2022-07-05T15:45:10.861348",
     "exception": false,
     "start_time": "2022-07-05T15:45:10.840182",
     "status": "completed"
    },
    "tags": []
   },
   "outputs": [
    {
     "data": {
      "text/plain": [
       "array([1, 1, 1, 1])"
      ]
     },
     "execution_count": 14,
     "metadata": {},
     "output_type": "execute_result"
    }
   ],
   "source": [
    "predictions = model.predict(x_test)\n",
    "predictions"
   ]
  },
  {
   "cell_type": "code",
   "execution_count": 15,
   "id": "851e194d",
   "metadata": {
    "execution": {
     "iopub.execute_input": "2022-07-05T15:45:10.879399Z",
     "iopub.status.busy": "2022-07-05T15:45:10.878591Z",
     "iopub.status.idle": "2022-07-05T15:45:10.895690Z",
     "shell.execute_reply": "2022-07-05T15:45:10.893488Z"
    },
    "papermill": {
     "duration": 0.029599,
     "end_time": "2022-07-05T15:45:10.898766",
     "exception": false,
     "start_time": "2022-07-05T15:45:10.869167",
     "status": "completed"
    },
    "tags": []
   },
   "outputs": [
    {
     "name": "stdout",
     "output_type": "stream",
     "text": [
      "              precision    recall  f1-score   support\n",
      "\n",
      "           1       0.50      1.00      0.67         2\n",
      "           2       0.00      0.00      0.00         1\n",
      "           3       0.00      0.00      0.00         1\n",
      "\n",
      "    accuracy                           0.50         4\n",
      "   macro avg       0.17      0.33      0.22         4\n",
      "weighted avg       0.25      0.50      0.33         4\n",
      "\n"
     ]
    },
    {
     "name": "stderr",
     "output_type": "stream",
     "text": [
      "/opt/conda/lib/python3.7/site-packages/sklearn/metrics/_classification.py:1318: UndefinedMetricWarning: Precision and F-score are ill-defined and being set to 0.0 in labels with no predicted samples. Use `zero_division` parameter to control this behavior.\n",
      "  _warn_prf(average, modifier, msg_start, len(result))\n",
      "/opt/conda/lib/python3.7/site-packages/sklearn/metrics/_classification.py:1318: UndefinedMetricWarning: Precision and F-score are ill-defined and being set to 0.0 in labels with no predicted samples. Use `zero_division` parameter to control this behavior.\n",
      "  _warn_prf(average, modifier, msg_start, len(result))\n",
      "/opt/conda/lib/python3.7/site-packages/sklearn/metrics/_classification.py:1318: UndefinedMetricWarning: Precision and F-score are ill-defined and being set to 0.0 in labels with no predicted samples. Use `zero_division` parameter to control this behavior.\n",
      "  _warn_prf(average, modifier, msg_start, len(result))\n"
     ]
    }
   ],
   "source": [
    "print(classification_report(y_test, predictions))"
   ]
  },
  {
   "cell_type": "code",
   "execution_count": 16,
   "id": "10e20680",
   "metadata": {
    "execution": {
     "iopub.execute_input": "2022-07-05T15:45:10.918070Z",
     "iopub.status.busy": "2022-07-05T15:45:10.916936Z",
     "iopub.status.idle": "2022-07-05T15:45:10.924614Z",
     "shell.execute_reply": "2022-07-05T15:45:10.922384Z"
    },
    "papermill": {
     "duration": 0.020881,
     "end_time": "2022-07-05T15:45:10.928103",
     "exception": false,
     "start_time": "2022-07-05T15:45:10.907222",
     "status": "completed"
    },
    "tags": []
   },
   "outputs": [
    {
     "name": "stdout",
     "output_type": "stream",
     "text": [
      "0.5\n"
     ]
    }
   ],
   "source": [
    "print(accuracy_score(y_test, predictions))"
   ]
  }
 ],
 "metadata": {
  "kernelspec": {
   "display_name": "Python 3",
   "language": "python",
   "name": "python3"
  },
  "language_info": {
   "codemirror_mode": {
    "name": "ipython",
    "version": 3
   },
   "file_extension": ".py",
   "mimetype": "text/x-python",
   "name": "python",
   "nbconvert_exporter": "python",
   "pygments_lexer": "ipython3",
   "version": "3.7.12"
  },
  "papermill": {
   "default_parameters": {},
   "duration": 17.991227,
   "end_time": "2022-07-05T15:45:11.862671",
   "environment_variables": {},
   "exception": null,
   "input_path": "__notebook__.ipynb",
   "output_path": "__notebook__.ipynb",
   "parameters": {},
   "start_time": "2022-07-05T15:44:53.871444",
   "version": "2.3.4"
  }
 },
 "nbformat": 4,
 "nbformat_minor": 5
}
